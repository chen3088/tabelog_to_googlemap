{
 "cells": [
  {
   "cell_type": "code",
   "execution_count": 28,
   "id": "777bf234",
   "metadata": {},
   "outputs": [
    {
     "name": "stdout",
     "output_type": "stream",
     "text": [
      "▶ 抓取第 1 頁：https://tabelog.com/tw/tokyo/rstLst/tempura//1/\n",
      "▶ 抓取第 2 頁：https://tabelog.com/tw/tokyo/rstLst/tempura//2/\n",
      "▶ 抓取第 3 頁：https://tabelog.com/tw/tokyo/rstLst/tempura//3/\n",
      "[429] 第 1 次，等待 1s 後重試…\n",
      "▶ 抓取第 4 頁：https://tabelog.com/tw/tokyo/rstLst/tempura//4/\n",
      "▶ 抓取第 5 頁：https://tabelog.com/tw/tokyo/rstLst/tempura//5/\n",
      "[429] 第 1 次，等待 1s 後重試…\n",
      "▶ 抓取第 6 頁：https://tabelog.com/tw/tokyo/rstLst/tempura//6/\n",
      "▶ 抓取第 7 頁：https://tabelog.com/tw/tokyo/rstLst/tempura//7/\n",
      "[429] 第 1 次，等待 1s 後重試…\n",
      "▶ 抓取第 8 頁：https://tabelog.com/tw/tokyo/rstLst/tempura//8/\n",
      "▶ 抓取第 9 頁：https://tabelog.com/tw/tokyo/rstLst/tempura//9/\n",
      "▶ 抓取第 10 頁：https://tabelog.com/tw/tokyo/rstLst/tempura//10/\n"
     ]
    }
   ],
   "source": [
    "import requests\n",
    "from bs4 import BeautifulSoup\n",
    "import time\n",
    "import pandas as pd\n",
    "\n",
    "# ----- 可調整變數 -----\n",
    "base_url = \"https://tabelog.com/tw/tokyo/rstLst/tempura/\"  # 不含最後的 /{page}/\n",
    "n = 10                                                # 要爬的頁數\n",
    "headers = {                                           # 模擬瀏覽器\n",
    "    \"User-Agent\": \"Mozilla/5.0 (Windows NT 10.0; Win64; x64)\"\n",
    "}\n",
    "pause_per_item = 0.3    # 每筆資料間延遲秒數 \n",
    "output_file    = \"tabelog_tokyo_tempura.csv\"                            \n",
    "# ----------------------\n",
    "\n",
    "def fetch_with_backoff(url, headers, max_retries=5, backoff_factor=2, initial_wait=1):\n",
    "    wait = initial_wait\n",
    "    for attempt in range(1, max_retries + 1):\n",
    "        resp = requests.get(url, headers=headers)\n",
    "        if resp.status_code == 429:\n",
    "            print(f\"[429] 第 {attempt} 次，等待 {wait}s 後重試…\")\n",
    "            time.sleep(wait)\n",
    "            wait *= backoff_factor\n",
    "        else:\n",
    "            resp.raise_for_status()\n",
    "            return resp\n",
    "    raise RuntimeError(\"重試多次後仍失敗，請稍後再試\")\n",
    "\n",
    "results = []\n",
    "for page in range(1, n + 1):\n",
    "    url = f\"{base_url}/{page}/\"\n",
    "    print(f\"▶ 抓取第 {page} 頁：{url}\")\n",
    "    resp = fetch_with_backoff(url, headers)\n",
    "    soup = BeautifulSoup(resp.text, \"html.parser\")\n",
    "\n",
    "    for item in soup.select(\".list-rst__wrap\"):\n",
    "        name_tag = item.select_one(\".list-rst__rst-name-target\")\n",
    "        name = name_tag.text.strip() if name_tag else None\n",
    "        link = name_tag[\"href\"] if name_tag and name_tag.has_attr(\"href\") else None\n",
    "\n",
    "        rating_tag = item.select_one(\".c-rating__val\")\n",
    "        rating = rating_tag.text.strip() if rating_tag else None\n",
    "\n",
    "        raw_access = item.select_one(\".list-rst__area-genre\")\n",
    "        access_text = raw_access.text.strip() if raw_access else \"\"\n",
    "        station, categories = (access_text.split(\" / \", 1) + [None])[:2]\n",
    "\n",
    "        lunch = dinner = None\n",
    "        for icon in item.select(\"i.c-rating-v3__time\"):\n",
    "            val = icon.find_next_sibling(\"span\", class_=\"c-rating-v3__val\")\n",
    "            if not val:\n",
    "                continue\n",
    "            txt = val.text.strip()\n",
    "            cls = icon.get(\"class\", [])\n",
    "            if \"c-rating-v3__time--lunch\" in cls:\n",
    "                lunch = txt\n",
    "            elif \"c-rating-v3__time--dinner\" in cls:\n",
    "                dinner = txt\n",
    "\n",
    "        results.append({\n",
    "            \"店名\": name,\n",
    "            \"平均星級評分\": rating,\n",
    "            \"車站\": station,\n",
    "            \"餐廳類別\": categories,\n",
    "            \"連結\": link,\n",
    "            \"午餐價位\": lunch,\n",
    "            \"晚餐價位\": dinner\n",
    "        })\n",
    "\n",
    "        time.sleep(pause_per_item)\n",
    "\n",
    "# 組成 DataFrame\n",
    "df = pd.DataFrame(results)\n"
   ]
  },
  {
   "cell_type": "code",
   "execution_count": 29,
   "id": "82fa5d0a",
   "metadata": {},
   "outputs": [],
   "source": [
    "# 儲存到 CSV 檔案\n",
    "df.to_csv(output_file, index=False ,encoding=\"utf-8-sig\")"
   ]
  },
  {
   "cell_type": "code",
   "execution_count": 30,
   "id": "b193a255",
   "metadata": {},
   "outputs": [],
   "source": [
    "from pathlib import Path\n",
    "# 確保評分欄位是 float 型別\n",
    "df[\"平均星級評分\"] = df[\"平均星級評分\"].astype(float)\n",
    "\n",
    "# 建立新的過濾後 DataFrame\n",
    "df_high = df[df[\"平均星級評分\"] > 3.5]\n",
    "# 自動推導高分檔名\n",
    "p = Path(output_file)\n",
    "high_file = p.with_name(p.stem + \"_high_score\" + p.suffix)"
   ]
  },
  {
   "cell_type": "code",
   "execution_count": 31,
   "id": "eb398bc1",
   "metadata": {},
   "outputs": [],
   "source": [
    "df_high.to_csv(high_file, index=False, encoding=\"utf-8-sig\")"
   ]
  }
 ],
 "metadata": {
  "kernelspec": {
   "display_name": "Python 3",
   "language": "python",
   "name": "python3"
  },
  "language_info": {
   "codemirror_mode": {
    "name": "ipython",
    "version": 3
   },
   "file_extension": ".py",
   "mimetype": "text/x-python",
   "name": "python",
   "nbconvert_exporter": "python",
   "pygments_lexer": "ipython3",
   "version": "3.10.7"
  }
 },
 "nbformat": 4,
 "nbformat_minor": 5
}
