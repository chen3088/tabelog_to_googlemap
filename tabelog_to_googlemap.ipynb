{
 "cells": [
  {
   "cell_type": "code",
   "execution_count": 1,
   "id": "c0738dec",
   "metadata": {},
   "outputs": [
    {
     "name": "stdout",
     "output_type": "stream",
     "text": [
      "📄 抓取第 1 頁...\n",
      "📄 抓取第 2 頁...\n",
      "📄 抓取第 3 頁...\n",
      "\n",
      "✅ 共抓取 60 筆資料。\n"
     ]
    },
    {
     "name": "stderr",
     "output_type": "stream",
     "text": [
      "📍抓取地址中: 100%|██████████████████████████████████████████████████████████████████████| 6/6 [00:11<00:00,  1.92s/it]"
     ]
    },
    {
     "name": "stdout",
     "output_type": "stream",
     "text": [
      "\n",
      "✅ 已成功匯出：tabelog_高評分清單.csv\n"
     ]
    },
    {
     "name": "stderr",
     "output_type": "stream",
     "text": [
      "\n"
     ]
    }
   ],
   "source": [
    "import requests\n",
    "from bs4 import BeautifulSoup\n",
    "import pandas as pd\n",
    "import time\n",
    "from tqdm import tqdm\n",
    "import urllib.parse\n",
    "\n",
    "# ====== 使用者可自訂的參數 ======\n",
    "base_url = \"https://tabelog.com/tokyo/rstLst/\"\n",
    "page_count = 3                 # 要抓幾頁\n",
    "rating_threshold = 3.5         # 評分篩選門檻\n",
    "output_csv_name = \"tabelog_高評分清單.csv\"\n",
    "# ==================================\n",
    "\n",
    "headers = {\"User-Agent\": \"Mozilla/5.0\"}\n",
    "df = pd.DataFrame(columns=[\"店名\", \"評分\", \"連結\"])\n",
    "\n",
    "# Step 1: 抓取多頁資料\n",
    "for page in range(1, page_count + 1):\n",
    "    print(f\"📄 抓取第 {page} 頁...\")\n",
    "    url = f\"{base_url}{page}/\"\n",
    "    try:\n",
    "        res = requests.get(url, headers=headers)\n",
    "        soup = BeautifulSoup(res.text, \"html.parser\")\n",
    "    except Exception as e:\n",
    "        print(f\"⚠️ 第 {page} 頁錯誤：{e}\")\n",
    "        continue\n",
    "\n",
    "    restaurants = soup.select(\".list-rst__wrap\")\n",
    "    for item in restaurants:\n",
    "        name_tag = item.select_one(\".list-rst__rst-name-target\")\n",
    "        rating_tag = item.select_one(\".c-rating__val\")\n",
    "        if name_tag and rating_tag:\n",
    "            try:\n",
    "                rating = float(rating_tag.text.strip())\n",
    "            except ValueError:\n",
    "                continue\n",
    "            name = name_tag.text.strip()\n",
    "            link = name_tag['href']\n",
    "            df.loc[len(df)] = [name, rating, link]\n",
    "    time.sleep(1)\n",
    "\n",
    "print(f\"\\n✅ 共抓取 {len(df)} 筆資料。\")\n",
    "\n",
    "# Step 2: 篩選評分 > 門檻\n",
    "df_high = df[df[\"評分\"] > rating_threshold].copy()\n",
    "\n",
    "# Step 3: 抓每家店的地址\n",
    "df_high[\"地址\"] = None\n",
    "for idx, row in tqdm(df_high.iterrows(), total=len(df_high), desc=\"📍抓取地址中\"):\n",
    "    try:\n",
    "        res = requests.get(row[\"連結\"], headers=headers)\n",
    "        soup = BeautifulSoup(res.text, \"html.parser\")\n",
    "        addr_tag = soup.select_one(\".rstinfo-table__address\")\n",
    "        address = addr_tag.text.strip() if addr_tag else \"未找到\"\n",
    "    except Exception as e:\n",
    "        address = f\"錯誤：{e}\"\n",
    "    df_high.at[idx, \"地址\"] = address\n",
    "    time.sleep(1)\n",
    "\n",
    "# Step 4: 產生 Google Maps 搜尋網址（用地址）\n",
    "df_high[\"Google地圖搜尋\"] = df_high[\"地址\"].apply(\n",
    "    lambda addr: \"https://www.google.com/maps/search/\" + urllib.parse.quote(addr)\n",
    ")\n",
    "\n",
    "# Step 5: 匯出 CSV\n",
    "df_high[[\"店名\", \"評分\", \"地址\", \"Google地圖搜尋\"]].to_csv(\n",
    "    output_csv_name, index=False, encoding=\"utf-8-sig\"\n",
    ")\n",
    "\n",
    "print(f\"\\n✅ 已成功匯出：{output_csv_name}\")\n"
   ]
  },
  {
   "cell_type": "code",
   "execution_count": null,
   "id": "2545d495",
   "metadata": {},
   "outputs": [],
   "source": []
  }
 ],
 "metadata": {
  "kernelspec": {
   "display_name": "Python 3 (ipykernel)",
   "language": "python",
   "name": "python3"
  },
  "language_info": {
   "codemirror_mode": {
    "name": "ipython",
    "version": 3
   },
   "file_extension": ".py",
   "mimetype": "text/x-python",
   "name": "python",
   "nbconvert_exporter": "python",
   "pygments_lexer": "ipython3",
   "version": "3.8.8"
  }
 },
 "nbformat": 4,
 "nbformat_minor": 5
}
